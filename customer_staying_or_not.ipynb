{
 "cells": [
  {
   "cell_type": "code",
   "execution_count": 3,
   "metadata": {},
   "outputs": [],
   "source": [
    "import numpy as np\n",
    "import pandas as pd\n",
    "import seaborn as sns\n",
    "from sklearn.model_selection import train_test_split\n",
    "from sklearn.preprocessing import StandardScaler\n",
    "from tensorflow.keras.models import Sequential, load_model\n",
    "from tensorflow.keras.layers import Dense\n",
    "from tensorflow.keras.optimizers import Adam\n",
    "from sklearn.metrics import confusion_matrix, accuracy_score\n"
   ]
  },
  {
   "cell_type": "code",
   "execution_count": 4,
   "metadata": {},
   "outputs": [],
   "source": [
    "dataFrame = pd.read_csv('csv/customer_staying_or_not.csv')"
   ]
  },
  {
   "cell_type": "code",
   "execution_count": 5,
   "metadata": {},
   "outputs": [
    {
     "data": {
      "text/html": [
       "<div>\n",
       "<style scoped>\n",
       "    .dataframe tbody tr th:only-of-type {\n",
       "        vertical-align: middle;\n",
       "    }\n",
       "\n",
       "    .dataframe tbody tr th {\n",
       "        vertical-align: top;\n",
       "    }\n",
       "\n",
       "    .dataframe thead th {\n",
       "        text-align: right;\n",
       "    }\n",
       "</style>\n",
       "<table border=\"1\" class=\"dataframe\">\n",
       "  <thead>\n",
       "    <tr style=\"text-align: right;\">\n",
       "      <th></th>\n",
       "      <th>RowNumber</th>\n",
       "      <th>CustomerId</th>\n",
       "      <th>Surname</th>\n",
       "      <th>CreditScore</th>\n",
       "      <th>Geography</th>\n",
       "      <th>Gender</th>\n",
       "      <th>Age</th>\n",
       "      <th>Tenure</th>\n",
       "      <th>Balance</th>\n",
       "      <th>NumOfProducts</th>\n",
       "      <th>HasCrCard</th>\n",
       "      <th>IsActiveMember</th>\n",
       "      <th>EstimatedSalary</th>\n",
       "      <th>Exited</th>\n",
       "    </tr>\n",
       "  </thead>\n",
       "  <tbody>\n",
       "    <tr>\n",
       "      <th>0</th>\n",
       "      <td>1</td>\n",
       "      <td>15634602</td>\n",
       "      <td>Hargrave</td>\n",
       "      <td>619</td>\n",
       "      <td>France</td>\n",
       "      <td>Female</td>\n",
       "      <td>42</td>\n",
       "      <td>2</td>\n",
       "      <td>0.00</td>\n",
       "      <td>1</td>\n",
       "      <td>1</td>\n",
       "      <td>1</td>\n",
       "      <td>101348.88</td>\n",
       "      <td>1</td>\n",
       "    </tr>\n",
       "    <tr>\n",
       "      <th>1</th>\n",
       "      <td>2</td>\n",
       "      <td>15647311</td>\n",
       "      <td>Hill</td>\n",
       "      <td>608</td>\n",
       "      <td>Spain</td>\n",
       "      <td>Female</td>\n",
       "      <td>41</td>\n",
       "      <td>1</td>\n",
       "      <td>83807.86</td>\n",
       "      <td>1</td>\n",
       "      <td>0</td>\n",
       "      <td>1</td>\n",
       "      <td>112542.58</td>\n",
       "      <td>0</td>\n",
       "    </tr>\n",
       "    <tr>\n",
       "      <th>2</th>\n",
       "      <td>3</td>\n",
       "      <td>15619304</td>\n",
       "      <td>Onio</td>\n",
       "      <td>502</td>\n",
       "      <td>France</td>\n",
       "      <td>Female</td>\n",
       "      <td>42</td>\n",
       "      <td>8</td>\n",
       "      <td>159660.80</td>\n",
       "      <td>3</td>\n",
       "      <td>1</td>\n",
       "      <td>0</td>\n",
       "      <td>113931.57</td>\n",
       "      <td>1</td>\n",
       "    </tr>\n",
       "    <tr>\n",
       "      <th>3</th>\n",
       "      <td>4</td>\n",
       "      <td>15701354</td>\n",
       "      <td>Boni</td>\n",
       "      <td>699</td>\n",
       "      <td>France</td>\n",
       "      <td>Female</td>\n",
       "      <td>39</td>\n",
       "      <td>1</td>\n",
       "      <td>0.00</td>\n",
       "      <td>2</td>\n",
       "      <td>0</td>\n",
       "      <td>0</td>\n",
       "      <td>93826.63</td>\n",
       "      <td>0</td>\n",
       "    </tr>\n",
       "    <tr>\n",
       "      <th>4</th>\n",
       "      <td>5</td>\n",
       "      <td>15737888</td>\n",
       "      <td>Mitchell</td>\n",
       "      <td>850</td>\n",
       "      <td>Spain</td>\n",
       "      <td>Female</td>\n",
       "      <td>43</td>\n",
       "      <td>2</td>\n",
       "      <td>125510.82</td>\n",
       "      <td>1</td>\n",
       "      <td>1</td>\n",
       "      <td>1</td>\n",
       "      <td>79084.10</td>\n",
       "      <td>0</td>\n",
       "    </tr>\n",
       "  </tbody>\n",
       "</table>\n",
       "</div>"
      ],
      "text/plain": [
       "   RowNumber  CustomerId   Surname  CreditScore Geography  Gender  Age  \\\n",
       "0          1    15634602  Hargrave          619    France  Female   42   \n",
       "1          2    15647311      Hill          608     Spain  Female   41   \n",
       "2          3    15619304      Onio          502    France  Female   42   \n",
       "3          4    15701354      Boni          699    France  Female   39   \n",
       "4          5    15737888  Mitchell          850     Spain  Female   43   \n",
       "\n",
       "   Tenure    Balance  NumOfProducts  HasCrCard  IsActiveMember  \\\n",
       "0       2       0.00              1          1               1   \n",
       "1       1   83807.86              1          0               1   \n",
       "2       8  159660.80              3          1               0   \n",
       "3       1       0.00              2          0               0   \n",
       "4       2  125510.82              1          1               1   \n",
       "\n",
       "   EstimatedSalary  Exited  \n",
       "0        101348.88       1  \n",
       "1        112542.58       0  \n",
       "2        113931.57       1  \n",
       "3         93826.63       0  \n",
       "4         79084.10       0  "
      ]
     },
     "execution_count": 5,
     "metadata": {},
     "output_type": "execute_result"
    }
   ],
   "source": [
    "dataFrame.head()"
   ]
  },
  {
   "cell_type": "code",
   "execution_count": 6,
   "metadata": {},
   "outputs": [],
   "source": [
    "dataFrame.isnull().sum()\n",
    "dataFrame.dropna(inplace=True)"
   ]
  },
  {
   "cell_type": "code",
   "execution_count": 7,
   "metadata": {},
   "outputs": [],
   "source": [
    "pd.set_option('display.max_columns', None)\n",
    "X = dataFrame.iloc[ : , 3:13]\n",
    "y = dataFrame.iloc[ : , -1]\n",
    "\n"
   ]
  },
  {
   "cell_type": "code",
   "execution_count": 8,
   "metadata": {},
   "outputs": [],
   "source": [
    "X = pd.get_dummies(X) \n",
    "columnNames = list(X.columns)\n",
    "X = X.values\n",
    "y = y.values\n"
   ]
  },
  {
   "cell_type": "code",
   "execution_count": 9,
   "metadata": {},
   "outputs": [],
   "source": [
    "scaler = StandardScaler()\n",
    "X = scaler.fit_transform(X)\n"
   ]
  },
  {
   "cell_type": "code",
   "execution_count": 10,
   "metadata": {},
   "outputs": [],
   "source": [
    "X_train, X_test, y_train, y_test = train_test_split(X,y,test_size = 0.15, random_state = 42 )"
   ]
  },
  {
   "cell_type": "code",
   "execution_count": 11,
   "metadata": {},
   "outputs": [],
   "source": [
    "model = Sequential()\n",
    "model.add(Dense(6, activation=\"relu\"))\n",
    "model.add(Dense(12, activation=\"relu\"))\n",
    "model.add(Dense(6, activation=\"relu\"))\n",
    "model.add(Dense(1, activation=\"sigmoid\"))\n",
    "\n",
    "adam = Adam(learning_rate=0.001)\n",
    "model.compile(loss=\"binary_crossentropy\", optimizer=adam, metrics=['accuracy'])"
   ]
  },
  {
   "cell_type": "code",
   "execution_count": 12,
   "metadata": {},
   "outputs": [
    {
     "name": "stdout",
     "output_type": "stream",
     "text": [
      "Epoch 1/100\n",
      "266/266 [==============================] - 2s 2ms/step - loss: 0.5051 - accuracy: 0.7947\n",
      "Epoch 2/100\n",
      "266/266 [==============================] - 0s 2ms/step - loss: 0.4484 - accuracy: 0.8012\n",
      "Epoch 3/100\n",
      "266/266 [==============================] - 0s 2ms/step - loss: 0.4252 - accuracy: 0.8195\n",
      "Epoch 4/100\n",
      "266/266 [==============================] - 0s 2ms/step - loss: 0.4143 - accuracy: 0.8244\n",
      "Epoch 5/100\n",
      "266/266 [==============================] - 0s 2ms/step - loss: 0.4042 - accuracy: 0.8326\n",
      "Epoch 6/100\n",
      "266/266 [==============================] - 0s 2ms/step - loss: 0.3894 - accuracy: 0.8431\n",
      "Epoch 7/100\n",
      "266/266 [==============================] - 0s 2ms/step - loss: 0.3741 - accuracy: 0.8491\n",
      "Epoch 8/100\n",
      "266/266 [==============================] - 0s 2ms/step - loss: 0.3642 - accuracy: 0.8522\n",
      "Epoch 9/100\n",
      "266/266 [==============================] - 1s 2ms/step - loss: 0.3582 - accuracy: 0.8538\n",
      "Epoch 10/100\n",
      "266/266 [==============================] - 1s 2ms/step - loss: 0.3551 - accuracy: 0.8547\n",
      "Epoch 11/100\n",
      "266/266 [==============================] - 1s 2ms/step - loss: 0.3522 - accuracy: 0.8551\n",
      "Epoch 12/100\n",
      "266/266 [==============================] - 1s 2ms/step - loss: 0.3508 - accuracy: 0.8553\n",
      "Epoch 13/100\n",
      "266/266 [==============================] - 0s 1ms/step - loss: 0.3485 - accuracy: 0.8552\n",
      "Epoch 14/100\n",
      "266/266 [==============================] - 0s 2ms/step - loss: 0.3476 - accuracy: 0.8545\n",
      "Epoch 15/100\n",
      "266/266 [==============================] - 0s 2ms/step - loss: 0.3458 - accuracy: 0.8574\n",
      "Epoch 16/100\n",
      "266/266 [==============================] - 0s 2ms/step - loss: 0.3440 - accuracy: 0.8551\n",
      "Epoch 17/100\n",
      "266/266 [==============================] - 0s 2ms/step - loss: 0.3434 - accuracy: 0.8564\n",
      "Epoch 18/100\n",
      "266/266 [==============================] - 0s 2ms/step - loss: 0.3430 - accuracy: 0.8564\n",
      "Epoch 19/100\n",
      "266/266 [==============================] - 0s 2ms/step - loss: 0.3414 - accuracy: 0.8571\n",
      "Epoch 20/100\n",
      "266/266 [==============================] - 1s 2ms/step - loss: 0.3407 - accuracy: 0.8572\n",
      "Epoch 21/100\n",
      "266/266 [==============================] - 1s 2ms/step - loss: 0.3398 - accuracy: 0.8589\n",
      "Epoch 22/100\n",
      "266/266 [==============================] - 0s 2ms/step - loss: 0.3393 - accuracy: 0.8602\n",
      "Epoch 23/100\n",
      "266/266 [==============================] - 0s 2ms/step - loss: 0.3393 - accuracy: 0.8607\n",
      "Epoch 24/100\n",
      "266/266 [==============================] - 0s 2ms/step - loss: 0.3388 - accuracy: 0.8592\n",
      "Epoch 25/100\n",
      "266/266 [==============================] - 1s 2ms/step - loss: 0.3386 - accuracy: 0.8604\n",
      "Epoch 26/100\n",
      "266/266 [==============================] - 1s 2ms/step - loss: 0.3382 - accuracy: 0.8607\n",
      "Epoch 27/100\n",
      "266/266 [==============================] - 1s 2ms/step - loss: 0.3382 - accuracy: 0.8596\n",
      "Epoch 28/100\n",
      "266/266 [==============================] - 1s 2ms/step - loss: 0.3385 - accuracy: 0.8606\n",
      "Epoch 29/100\n",
      "266/266 [==============================] - 0s 2ms/step - loss: 0.3374 - accuracy: 0.8609\n",
      "Epoch 30/100\n",
      "266/266 [==============================] - 1s 2ms/step - loss: 0.3367 - accuracy: 0.8604\n",
      "Epoch 31/100\n",
      "266/266 [==============================] - 1s 2ms/step - loss: 0.3362 - accuracy: 0.8613\n",
      "Epoch 32/100\n",
      "266/266 [==============================] - 1s 2ms/step - loss: 0.3363 - accuracy: 0.8615\n",
      "Epoch 33/100\n",
      "266/266 [==============================] - 1s 2ms/step - loss: 0.3363 - accuracy: 0.8620\n",
      "Epoch 34/100\n",
      "266/266 [==============================] - 1s 2ms/step - loss: 0.3354 - accuracy: 0.8632\n",
      "Epoch 35/100\n",
      "266/266 [==============================] - 1s 2ms/step - loss: 0.3358 - accuracy: 0.8616\n",
      "Epoch 36/100\n",
      "266/266 [==============================] - 1s 2ms/step - loss: 0.3350 - accuracy: 0.8611\n",
      "Epoch 37/100\n",
      "266/266 [==============================] - 1s 2ms/step - loss: 0.3357 - accuracy: 0.8613\n",
      "Epoch 38/100\n",
      "266/266 [==============================] - 1s 2ms/step - loss: 0.3348 - accuracy: 0.8608\n",
      "Epoch 39/100\n",
      "266/266 [==============================] - 1s 2ms/step - loss: 0.3347 - accuracy: 0.8621\n",
      "Epoch 40/100\n",
      "266/266 [==============================] - 1s 2ms/step - loss: 0.3347 - accuracy: 0.8625\n",
      "Epoch 41/100\n",
      "266/266 [==============================] - 1s 2ms/step - loss: 0.3345 - accuracy: 0.8615\n",
      "Epoch 42/100\n",
      "266/266 [==============================] - 1s 2ms/step - loss: 0.3347 - accuracy: 0.8619\n",
      "Epoch 43/100\n",
      "266/266 [==============================] - 1s 2ms/step - loss: 0.3346 - accuracy: 0.8608\n",
      "Epoch 44/100\n",
      "266/266 [==============================] - 1s 2ms/step - loss: 0.3342 - accuracy: 0.8616\n",
      "Epoch 45/100\n",
      "266/266 [==============================] - 0s 2ms/step - loss: 0.3342 - accuracy: 0.8622\n",
      "Epoch 46/100\n",
      "266/266 [==============================] - 0s 2ms/step - loss: 0.3334 - accuracy: 0.8621\n",
      "Epoch 47/100\n",
      "266/266 [==============================] - 1s 2ms/step - loss: 0.3337 - accuracy: 0.8619\n",
      "Epoch 48/100\n",
      "266/266 [==============================] - 1s 2ms/step - loss: 0.3336 - accuracy: 0.8614\n",
      "Epoch 49/100\n",
      "266/266 [==============================] - 1s 2ms/step - loss: 0.3343 - accuracy: 0.8614\n",
      "Epoch 50/100\n",
      "266/266 [==============================] - 1s 2ms/step - loss: 0.3332 - accuracy: 0.8621\n",
      "Epoch 51/100\n",
      "266/266 [==============================] - 1s 2ms/step - loss: 0.3338 - accuracy: 0.8622\n",
      "Epoch 52/100\n",
      "266/266 [==============================] - 1s 2ms/step - loss: 0.3333 - accuracy: 0.8612\n",
      "Epoch 53/100\n",
      "266/266 [==============================] - 1s 2ms/step - loss: 0.3330 - accuracy: 0.8628\n",
      "Epoch 54/100\n",
      "266/266 [==============================] - 0s 2ms/step - loss: 0.3327 - accuracy: 0.8621\n",
      "Epoch 55/100\n",
      "266/266 [==============================] - 0s 2ms/step - loss: 0.3326 - accuracy: 0.8625\n",
      "Epoch 56/100\n",
      "266/266 [==============================] - 1s 2ms/step - loss: 0.3336 - accuracy: 0.8611\n",
      "Epoch 57/100\n",
      "266/266 [==============================] - 1s 2ms/step - loss: 0.3330 - accuracy: 0.8608\n",
      "Epoch 58/100\n",
      "266/266 [==============================] - 1s 2ms/step - loss: 0.3327 - accuracy: 0.8615\n",
      "Epoch 59/100\n",
      "266/266 [==============================] - 1s 2ms/step - loss: 0.3327 - accuracy: 0.8612\n",
      "Epoch 60/100\n",
      "266/266 [==============================] - 1s 2ms/step - loss: 0.3325 - accuracy: 0.8614\n",
      "Epoch 61/100\n",
      "266/266 [==============================] - 1s 2ms/step - loss: 0.3325 - accuracy: 0.8621\n",
      "Epoch 62/100\n",
      "266/266 [==============================] - 0s 2ms/step - loss: 0.3326 - accuracy: 0.8625\n",
      "Epoch 63/100\n",
      "266/266 [==============================] - 1s 2ms/step - loss: 0.3322 - accuracy: 0.8619\n",
      "Epoch 64/100\n",
      "266/266 [==============================] - 1s 2ms/step - loss: 0.3317 - accuracy: 0.8626\n",
      "Epoch 65/100\n",
      "266/266 [==============================] - 0s 2ms/step - loss: 0.3313 - accuracy: 0.8632\n",
      "Epoch 66/100\n",
      "266/266 [==============================] - 0s 2ms/step - loss: 0.3314 - accuracy: 0.8634\n",
      "Epoch 67/100\n",
      "266/266 [==============================] - 0s 2ms/step - loss: 0.3316 - accuracy: 0.8627\n",
      "Epoch 68/100\n",
      "266/266 [==============================] - 0s 2ms/step - loss: 0.3314 - accuracy: 0.8631\n",
      "Epoch 69/100\n",
      "266/266 [==============================] - 1s 2ms/step - loss: 0.3311 - accuracy: 0.8613\n",
      "Epoch 70/100\n",
      "266/266 [==============================] - 0s 2ms/step - loss: 0.3318 - accuracy: 0.8611\n",
      "Epoch 71/100\n",
      "266/266 [==============================] - 0s 2ms/step - loss: 0.3311 - accuracy: 0.8635\n",
      "Epoch 72/100\n",
      "266/266 [==============================] - 0s 2ms/step - loss: 0.3313 - accuracy: 0.8620\n",
      "Epoch 73/100\n",
      "266/266 [==============================] - 0s 2ms/step - loss: 0.3312 - accuracy: 0.8624\n",
      "Epoch 74/100\n",
      "266/266 [==============================] - 1s 2ms/step - loss: 0.3309 - accuracy: 0.8627\n",
      "Epoch 75/100\n",
      "266/266 [==============================] - 0s 2ms/step - loss: 0.3311 - accuracy: 0.8638\n",
      "Epoch 76/100\n",
      "266/266 [==============================] - 0s 2ms/step - loss: 0.3312 - accuracy: 0.8615\n",
      "Epoch 77/100\n",
      "266/266 [==============================] - 0s 2ms/step - loss: 0.3307 - accuracy: 0.8632\n",
      "Epoch 78/100\n",
      "266/266 [==============================] - 0s 2ms/step - loss: 0.3307 - accuracy: 0.8614\n",
      "Epoch 79/100\n",
      "266/266 [==============================] - 0s 2ms/step - loss: 0.3306 - accuracy: 0.8628\n",
      "Epoch 80/100\n",
      "266/266 [==============================] - 1s 2ms/step - loss: 0.3306 - accuracy: 0.8611\n",
      "Epoch 81/100\n",
      "266/266 [==============================] - 0s 2ms/step - loss: 0.3303 - accuracy: 0.8629\n",
      "Epoch 82/100\n",
      "266/266 [==============================] - 0s 2ms/step - loss: 0.3306 - accuracy: 0.8620\n",
      "Epoch 83/100\n",
      "266/266 [==============================] - 0s 2ms/step - loss: 0.3299 - accuracy: 0.8639\n",
      "Epoch 84/100\n",
      "266/266 [==============================] - 0s 2ms/step - loss: 0.3306 - accuracy: 0.8628\n",
      "Epoch 85/100\n",
      "266/266 [==============================] - 0s 2ms/step - loss: 0.3303 - accuracy: 0.8616\n",
      "Epoch 86/100\n",
      "266/266 [==============================] - 0s 2ms/step - loss: 0.3306 - accuracy: 0.8633\n",
      "Epoch 87/100\n",
      "266/266 [==============================] - 0s 2ms/step - loss: 0.3300 - accuracy: 0.8634\n",
      "Epoch 88/100\n",
      "266/266 [==============================] - 0s 2ms/step - loss: 0.3310 - accuracy: 0.8646\n",
      "Epoch 89/100\n",
      "266/266 [==============================] - 0s 2ms/step - loss: 0.3304 - accuracy: 0.8639\n",
      "Epoch 90/100\n",
      "266/266 [==============================] - 0s 2ms/step - loss: 0.3300 - accuracy: 0.8627\n",
      "Epoch 91/100\n",
      "266/266 [==============================] - 0s 2ms/step - loss: 0.3306 - accuracy: 0.8620\n",
      "Epoch 92/100\n",
      "266/266 [==============================] - 0s 2ms/step - loss: 0.3302 - accuracy: 0.8635\n",
      "Epoch 93/100\n",
      "266/266 [==============================] - 0s 2ms/step - loss: 0.3301 - accuracy: 0.8647\n",
      "Epoch 94/100\n",
      "266/266 [==============================] - 0s 2ms/step - loss: 0.3294 - accuracy: 0.8642\n",
      "Epoch 95/100\n",
      "266/266 [==============================] - 1s 2ms/step - loss: 0.3295 - accuracy: 0.8627\n",
      "Epoch 96/100\n",
      "266/266 [==============================] - 0s 2ms/step - loss: 0.3305 - accuracy: 0.8628\n",
      "Epoch 97/100\n",
      "266/266 [==============================] - 0s 2ms/step - loss: 0.3302 - accuracy: 0.8632\n",
      "Epoch 98/100\n",
      "266/266 [==============================] - 0s 2ms/step - loss: 0.3300 - accuracy: 0.8638\n",
      "Epoch 99/100\n",
      "266/266 [==============================] - 0s 2ms/step - loss: 0.3300 - accuracy: 0.8629\n",
      "Epoch 100/100\n",
      "266/266 [==============================] - 1s 2ms/step - loss: 0.3304 - accuracy: 0.8634\n"
     ]
    },
    {
     "data": {
      "text/plain": [
       "<keras.callbacks.History at 0x19c64d89c70>"
      ]
     },
     "execution_count": 12,
     "metadata": {},
     "output_type": "execute_result"
    }
   ],
   "source": [
    "model.fit(X_train, y_train, epochs=100, verbose=1)"
   ]
  },
  {
   "cell_type": "code",
   "execution_count": 13,
   "metadata": {},
   "outputs": [
    {
     "data": {
      "text/plain": [
       "<Axes: >"
      ]
     },
     "execution_count": 13,
     "metadata": {},
     "output_type": "execute_result"
    },
    {
     "data": {
      "image/png": "[encoded data removed]",
      "text/plain": [
       "<Figure size 640x480 with 1 Axes>"
      ]
     },
     "metadata": {},
     "output_type": "display_data"
    }
   ],
   "source": [
    "loss = model.history.history['loss']\n",
    "sns.lineplot(x=range(len(loss)),y=loss)\n"
   ]
  },
  {
   "cell_type": "code",
   "execution_count": 14,
   "metadata": {},
   "outputs": [
    {
     "name": "stdout",
     "output_type": "stream",
     "text": [
      "47/47 [==============================] - 0s 2ms/step - loss: 0.3432 - accuracy: 0.8593\n"
     ]
    },
    {
     "data": {
      "text/plain": [
       "[0.34324267506599426, 0.859333336353302]"
      ]
     },
     "execution_count": 14,
     "metadata": {},
     "output_type": "execute_result"
    }
   ],
   "source": [
    "model.evaluate(X_test,y_test,verbose=1) \n"
   ]
  },
  {
   "cell_type": "code",
   "execution_count": 15,
   "metadata": {},
   "outputs": [
    {
     "name": "stdout",
     "output_type": "stream",
     "text": [
      "47/47 [==============================] - 0s 1ms/step\n",
      "[[1154   53]\n",
      " [ 158  135]]\n"
     ]
    }
   ],
   "source": [
    "y_pred = model.predict(X_test)\n",
    "y_pred = (y_pred > 0.5)\n",
    "\n",
    "cm = confusion_matrix(y_test, y_pred)\n",
    "print(cm)\n"
   ]
  },
  {
   "cell_type": "code",
   "execution_count": 16,
   "metadata": {},
   "outputs": [
    {
     "name": "stdout",
     "output_type": "stream",
     "text": [
      "['CreditScore', 'Age', 'Tenure', 'Balance', 'NumOfProducts', 'HasCrCard', 'IsActiveMember', 'EstimatedSalary', 'Geography_France', 'Geography_Germany', 'Geography_Spain', 'Gender_Female', 'Gender_Male']\n",
      "1/1 [==============================] - 0s 27ms/step\n"
     ]
    },
    {
     "data": {
      "text/plain": [
       "array([[0.01826182]], dtype=float32)"
      ]
     },
     "execution_count": 16,
     "metadata": {},
     "output_type": "execute_result"
    }
   ],
   "source": [
    "print(columnNames)\n",
    "new_value = [[600, 40, 3, 60000, 2, 1, 1, 50000, 1, 0, 0, 0, 1]]\n",
    "new_value = scaler.transform(new_value)\n",
    "model.predict(new_value)\n"
   ]
  },
  {
   "cell_type": "code",
   "execution_count": 17,
   "metadata": {},
   "outputs": [],
   "source": [
    "model.save('customer_retention_prediction_model.h5')"
   ]
  }
 ],
 "metadata": {
  "kernelspec": {
   "display_name": "Python 3",
   "language": "python",
   "name": "python3"
  },
  "language_info": {
   "codemirror_mode": {
    "name": "ipython",
    "version": 3
   },
   "file_extension": ".py",
   "mimetype": "text/x-python",
   "name": "python",
   "nbconvert_exporter": "python",
   "pygments_lexer": "ipython3",
   "version": "3.9.5"
  },
  "orig_nbformat": 4,
  "vscode": {
   "interpreter": {
    "hash": "81794d4967e6c3204c66dcd87b604927b115b27c00565d3d43f05ba2f3a2cb0d"
   }
  }
 },
 "nbformat": 4,
 "nbformat_minor": 2
}
